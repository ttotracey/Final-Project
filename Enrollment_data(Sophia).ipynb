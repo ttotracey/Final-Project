{
 "cells": [
  {
   "cell_type": "markdown",
   "metadata": {},
   "source": [
    "## School Enrollment Metric - Sophia Kadegnon \n",
    "Oddly enough, we discovered that majority of Pokemon Go players are adults. With that in mind, we decided to factor in the  number of children in an area as a criteria. In order to do so, we used school enrollment data by neighborhood to determine which neighborhood had the lowest number of children. The lower the amount of children, the better in this metric.\n",
    "\n",
    "To start, we read through the dataset and created a dataframe. "
   ]
  },
  {
   "cell_type": "code",
   "execution_count": 2,
   "metadata": {},
   "outputs": [
    {
     "data": {
      "text/html": [
       "<div>\n",
       "<style scoped>\n",
       "    .dataframe tbody tr th:only-of-type {\n",
       "        vertical-align: middle;\n",
       "    }\n",
       "\n",
       "    .dataframe tbody tr th {\n",
       "        vertical-align: top;\n",
       "    }\n",
       "\n",
       "    .dataframe thead th {\n",
       "        text-align: right;\n",
       "    }\n",
       "</style>\n",
       "<table border=\"1\" class=\"dataframe\">\n",
       "  <thead>\n",
       "    <tr style=\"text-align: right;\">\n",
       "      <th></th>\n",
       "      <th>neighborhood</th>\n",
       "      <th>school</th>\n",
       "      <th>enrolled_students</th>\n",
       "    </tr>\n",
       "  </thead>\n",
       "  <tbody>\n",
       "    <tr>\n",
       "      <th>0</th>\n",
       "      <td>Allegheny Center</td>\n",
       "      <td>Other</td>\n",
       "      <td>50</td>\n",
       "    </tr>\n",
       "    <tr>\n",
       "      <th>1</th>\n",
       "      <td>Allegheny Center</td>\n",
       "      <td>PITTSBURGH KING PreK-8</td>\n",
       "      <td>34</td>\n",
       "    </tr>\n",
       "    <tr>\n",
       "      <th>2</th>\n",
       "      <td>Allentown</td>\n",
       "      <td>Other</td>\n",
       "      <td>96</td>\n",
       "    </tr>\n",
       "    <tr>\n",
       "      <th>3</th>\n",
       "      <td>Allentown</td>\n",
       "      <td>PITTSBURGH GRANDVIEW PreK-5</td>\n",
       "      <td>76</td>\n",
       "    </tr>\n",
       "    <tr>\n",
       "      <th>4</th>\n",
       "      <td>Allentown</td>\n",
       "      <td>PITTSBURGH SOUTH HILLS 6-8</td>\n",
       "      <td>50</td>\n",
       "    </tr>\n",
       "    <tr>\n",
       "      <th>...</th>\n",
       "      <td>...</td>\n",
       "      <td>...</td>\n",
       "      <td>...</td>\n",
       "    </tr>\n",
       "    <tr>\n",
       "      <th>501</th>\n",
       "      <td>Wilkinsburg Borough</td>\n",
       "      <td>Other</td>\n",
       "      <td>72</td>\n",
       "    </tr>\n",
       "    <tr>\n",
       "      <th>502</th>\n",
       "      <td>Windgap</td>\n",
       "      <td>Other</td>\n",
       "      <td>50</td>\n",
       "    </tr>\n",
       "    <tr>\n",
       "      <th>503</th>\n",
       "      <td>Windgap</td>\n",
       "      <td>PITTSBURGH WESTWOOD K-5</td>\n",
       "      <td>29</td>\n",
       "    </tr>\n",
       "    <tr>\n",
       "      <th>504</th>\n",
       "      <td>Windgap</td>\n",
       "      <td>PITTSBURGH BRASHEAR HIGH SCHOOL</td>\n",
       "      <td>19</td>\n",
       "    </tr>\n",
       "    <tr>\n",
       "      <th>505</th>\n",
       "      <td>Windgap</td>\n",
       "      <td>PITTSBURGH SOUTH HILLS 6-8</td>\n",
       "      <td>12</td>\n",
       "    </tr>\n",
       "  </tbody>\n",
       "</table>\n",
       "<p>506 rows × 3 columns</p>\n",
       "</div>"
      ],
      "text/plain": [
       "            neighborhood                           school  enrolled_students\n",
       "0       Allegheny Center                            Other                 50\n",
       "1       Allegheny Center           PITTSBURGH KING PreK-8                 34\n",
       "2              Allentown                            Other                 96\n",
       "3              Allentown      PITTSBURGH GRANDVIEW PreK-5                 76\n",
       "4              Allentown       PITTSBURGH SOUTH HILLS 6-8                 50\n",
       "..                   ...                              ...                ...\n",
       "501  Wilkinsburg Borough                            Other                 72\n",
       "502              Windgap                            Other                 50\n",
       "503              Windgap          PITTSBURGH WESTWOOD K-5                 29\n",
       "504              Windgap  PITTSBURGH BRASHEAR HIGH SCHOOL                 19\n",
       "505              Windgap       PITTSBURGH SOUTH HILLS 6-8                 12\n",
       "\n",
       "[506 rows x 3 columns]"
      ]
     },
     "execution_count": 2,
     "metadata": {},
     "output_type": "execute_result"
    }
   ],
   "source": [
    "import pandas as pd \n",
    "from matplotlib import pyplot as plt\n",
    "import seaborn as sns\n",
    "import geopandas \n",
    "\n",
    "data = pd.read_csv(\"https://data.wprdc.org/dataset/27b6eef7-8825-4cc4-8b48-52c17ac80d37/resource/7b0660d1-c812-496d-ab0a-8560902e9e70/download/neighborhood_school_enrollment.csv\")\n",
    "pd.DataFrame(data)"
   ]
  },
  {
   "cell_type": "markdown",
   "metadata": {},
   "source": [
    "We noticed that this dataset includes multiple schools within the same neighborhood. We wanted to condense the data in order to only show one row per neighborhood and have the total number of children per neighborhood be shown as the final value. In order to simplify the data, we made a dictionary in order to condense the information. "
   ]
  },
  {
   "cell_type": "code",
   "execution_count": 3,
   "metadata": {},
   "outputs": [
    {
     "data": {
      "text/plain": [
       "North Oakland            11\n",
       "Central Oakland          16\n",
       "Golden Triangle          18\n",
       "Ridgemont                20\n",
       "Saint Clair              25\n",
       "                       ... \n",
       "Squirrel Hill South     679\n",
       "Sheraden                694\n",
       "Beechview               794\n",
       "Brookline              1169\n",
       "Carrick                1276\n",
       "Name: neighborhood, Length: 87, dtype: int64"
      ]
     },
     "execution_count": 3,
     "metadata": {},
     "output_type": "execute_result"
    }
   ],
   "source": [
    "#make dictionary\n",
    "kids_dict = dict()\n",
    "\n",
    "#read through and add to dictionary\n",
    "for row in range(len(data)):\n",
    "    #get the neighborhood name\n",
    "    name = data.loc[row, 'neighborhood']\n",
    "    \n",
    "    #if it's already in the dictionary:\n",
    "    if name in kids_dict:\n",
    "        kids_dict[name] += data.loc[row, 'enrolled_students']\n",
    "    #if not set it equal to the value\n",
    "    else:\n",
    "        kids_dict[name] = data.loc[row, 'enrolled_students']\n",
    "\n",
    "#make it a series for sorting\n",
    "num_kids_series = pd.Series(kids_dict, name = 'neighborhood')\n",
    "\n",
    "#print\n",
    "num_kids_series.sort_values()[:]"
   ]
  },
  {
   "cell_type": "markdown",
   "metadata": {},
   "source": [
    "Condensing the data made it a lot easier to work with. But even in this state, there were still many rows that were significantly outside the range we were going for.\n",
    "\n",
    "To narrow down the results, the top ten neighborhoods with the least amount of students is plotted."
   ]
  },
  {
   "cell_type": "code",
   "execution_count": 4,
   "metadata": {},
   "outputs": [
    {
     "data": {
      "text/plain": [
       "Text(0, 0.5, 'Number of students')"
      ]
     },
     "execution_count": 4,
     "metadata": {},
     "output_type": "execute_result"
    },
    {
     "data": {
      "image/png": "[encoded data removed]",
      "text/plain": [
       "<Figure size 432x288 with 1 Axes>"
      ]
     },
     "metadata": {},
     "output_type": "display_data"
    }
   ],
   "source": [
    "sns.set()\n",
    "num_kids_series.sort_values()[:10].plot.bar()\n",
    "plt.title('Neighborhoods by School Enrollment')\n",
    "plt.xlabel('Neighborhood')\n",
    "plt.ylabel('Number of students')"
   ]
  },
  {
   "cell_type": "markdown",
   "metadata": {},
   "source": [
    "Alas, we can start to see some neighborhoods separate themselves from the rest of the pack. But just to make sure, I created a pie chart with the top 5 nieghborhoods. "
   ]
  },
  {
   "cell_type": "code",
   "execution_count": 5,
   "metadata": {},
   "outputs": [
    {
     "data": {
      "text/plain": [
       "array([<matplotlib.axes._subplots.AxesSubplot object at 0x7f84bc4a8d30>],\n",
       "      dtype=object)"
      ]
     },
     "execution_count": 5,
     "metadata": {},
     "output_type": "execute_result"
    },
    {
     "data": {
      "image/png": "[encoded data removed]",
      "text/plain": [
       "<Figure size 432x288 with 1 Axes>"
      ]
     },
     "metadata": {},
     "output_type": "display_data"
    }
   ],
   "source": [
    "num_kids_series.sort_values()[:5].plot.pie(subplots=True)\n"
   ]
  },
  {
   "cell_type": "markdown",
   "metadata": {},
   "source": [
    "# Sophia's Conclusion \n",
    "\n",
    "North Oakland won the gold in a close competition for best neighborhood to play Pokemon Go in according to my metric. North Oakland only has 11 children enrolled in school. Considering that Oakland itself is primarially a college town, this makes  a lot of sense. Specifically, North Oakland is home to half of the University of Pittsburgh's halls and academic buildings. Not many children to be found. I'm not from the Pittsburgh area but I'm not surprised that Ridgemont won the overall competition. With its small population and primarily residential feel, it would make a good area to play Pokemon Go. Honestly speaking, I've never played Pokemon Go so I'm not exactly sure what constitutes a good neighborhood to play, but I'll take our project's word for it. If I had to choose, I would assume Central Oakland would be the best neighborhood in Pittsburgh to Play Pokemon go but maybe I'm biased because it's the only neighborhood I'm familiar with. "
   ]
  }
 ],
 "metadata": {
  "kernelspec": {
   "display_name": "Python 3",
   "language": "python",
   "name": "python3"
  },
  "language_info": {
   "codemirror_mode": {
    "name": "ipython",
    "version": 3
   },
   "file_extension": ".py",
   "mimetype": "text/x-python",
   "name": "python",
   "nbconvert_exporter": "python",
   "pygments_lexer": "ipython3",
   "version": "3.8.3"
  }
 },
 "nbformat": 4,
 "nbformat_minor": 4
}
