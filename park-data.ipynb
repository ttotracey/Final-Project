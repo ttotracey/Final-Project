{
 "cells": [
  {
   "cell_type": "code",
   "execution_count": 13,
   "metadata": {},
   "outputs": [
    {
     "data": {
      "text/html": [
       "<div>\n",
       "<style scoped>\n",
       "    .dataframe tbody tr th:only-of-type {\n",
       "        vertical-align: middle;\n",
       "    }\n",
       "\n",
       "    .dataframe tbody tr th {\n",
       "        vertical-align: top;\n",
       "    }\n",
       "\n",
       "    .dataframe thead th {\n",
       "        text-align: right;\n",
       "    }\n",
       "</style>\n",
       "<table border=\"1\" class=\"dataframe\">\n",
       "  <thead>\n",
       "    <tr style=\"text-align: right;\">\n",
       "      <th></th>\n",
       "      <th>name</th>\n",
       "      <th>equipment_type</th>\n",
       "      <th>neighborhood</th>\n",
       "    </tr>\n",
       "  </thead>\n",
       "  <tbody>\n",
       "    <tr>\n",
       "      <th>0</th>\n",
       "      <td>Able Long Playground</td>\n",
       "      <td>Play Area 2 to 5</td>\n",
       "      <td>Beechview</td>\n",
       "    </tr>\n",
       "    <tr>\n",
       "      <th>1</th>\n",
       "      <td>North Ave. Playground</td>\n",
       "      <td>Play Area 2 to 5</td>\n",
       "      <td>Allegheny Center</td>\n",
       "    </tr>\n",
       "    <tr>\n",
       "      <th>2</th>\n",
       "      <td>Vietnam Veteran's Playground</td>\n",
       "      <td>Slide</td>\n",
       "      <td>Squirrel Hill South</td>\n",
       "    </tr>\n",
       "    <tr>\n",
       "      <th>3</th>\n",
       "      <td>Schenley Overlook Playground</td>\n",
       "      <td>Swing 2 Bays</td>\n",
       "      <td>Squirrel Hill South</td>\n",
       "    </tr>\n",
       "    <tr>\n",
       "      <th>4</th>\n",
       "      <td>Schenley Overlook Playground</td>\n",
       "      <td>Slide</td>\n",
       "      <td>Squirrel Hill South</td>\n",
       "    </tr>\n",
       "    <tr>\n",
       "      <th>5</th>\n",
       "      <td>Chartiers Playground</td>\n",
       "      <td>Swing 2 Bays</td>\n",
       "      <td>Windgap</td>\n",
       "    </tr>\n",
       "    <tr>\n",
       "      <th>6</th>\n",
       "      <td>Chartiers Playground</td>\n",
       "      <td>Swing 2 Bays</td>\n",
       "      <td>Windgap</td>\n",
       "    </tr>\n",
       "    <tr>\n",
       "      <th>7</th>\n",
       "      <td>Chartiers Playground</td>\n",
       "      <td>Play Area 2 to 5</td>\n",
       "      <td>Windgap</td>\n",
       "    </tr>\n",
       "    <tr>\n",
       "      <th>8</th>\n",
       "      <td>Chartiers Playground</td>\n",
       "      <td>Play Area 5 to 12</td>\n",
       "      <td>Windgap</td>\n",
       "    </tr>\n",
       "    <tr>\n",
       "      <th>9</th>\n",
       "      <td>Chartiers Playground</td>\n",
       "      <td>Whirl</td>\n",
       "      <td>Windgap</td>\n",
       "    </tr>\n",
       "  </tbody>\n",
       "</table>\n",
       "</div>"
      ],
      "text/plain": [
       "                           name     equipment_type         neighborhood\n",
       "0          Able Long Playground   Play Area 2 to 5            Beechview\n",
       "1         North Ave. Playground   Play Area 2 to 5     Allegheny Center\n",
       "2  Vietnam Veteran's Playground              Slide  Squirrel Hill South\n",
       "3  Schenley Overlook Playground       Swing 2 Bays  Squirrel Hill South\n",
       "4  Schenley Overlook Playground              Slide  Squirrel Hill South\n",
       "5          Chartiers Playground       Swing 2 Bays              Windgap\n",
       "6          Chartiers Playground       Swing 2 Bays              Windgap\n",
       "7          Chartiers Playground   Play Area 2 to 5              Windgap\n",
       "8          Chartiers Playground  Play Area 5 to 12              Windgap\n",
       "9          Chartiers Playground              Whirl              Windgap"
      ]
     },
     "execution_count": 13,
     "metadata": {},
     "output_type": "execute_result"
    }
   ],
   "source": [
    "import pandas as pd \n",
    "import matplotlib.pyplot as plt\n",
    "import seaborn as sns\n",
    " \n",
    "\n",
    "#read data from csv files \n",
    "park = pd.read_csv(\"Parks.csv\")\n",
    "\n",
    "#sorting the dataset so it only contains columns that are necessary \n",
    "park = park[park.columns[park.columns.isin(['name','equipment_type', 'neighborhood'])]]\n",
    "\n",
    "#showing the first 10 to make sure everything needed is there \n",
    "park.head(10)"
   ]
  },
  {
   "cell_type": "markdown",
   "metadata": {},
   "source": [
    "Counting the number of times the neighborhood was written: "
   ]
  },
  {
   "cell_type": "code",
   "execution_count": 34,
   "metadata": {},
   "outputs": [
    {
     "data": {
      "text/plain": [
       "Squirrel Hill South    32\n",
       "East Liberty           26\n",
       "Beechview              21\n",
       "Allegheny Center       15\n",
       "South Side Slopes      14\n",
       "                       ..\n",
       "Esplen                  2\n",
       "Central Oakland         2\n",
       "Westwood                2\n",
       "Strip District          1\n",
       "West Oakland            1\n",
       "Name: Neighborhoods, Length: 68, dtype: int64"
      ]
     },
     "execution_count": 34,
     "metadata": {},
     "output_type": "execute_result"
    }
   ],
   "source": [
    "#creating a dictionary \n",
    "park_dict = dict()\n",
    "\n",
    "for row in range(len(park)):\n",
    "    name = park.loc[row, 'neighborhood']\n",
    "    \n",
    "    #if the neighborhood name is already listed then it'll add one to the count\n",
    "    if name in park_dict:\n",
    "        park_dict[name] += 1\n",
    "    #if the neighborhood name is not in the dictionary it'll be added \n",
    "    else:\n",
    "        park_dict[name] = 1\n",
    "\n",
    "park_series = pd.Series(park_dict, name = 'Neighborhoods')\n",
    "\n",
    "#printing\n",
    "park_series.sort_values(ascending = False)[:]"
   ]
  },
  {
   "cell_type": "code",
   "execution_count": 38,
   "metadata": {},
   "outputs": [
    {
     "data": {
      "text/plain": [
       "Text(0, 0.5, 'Number of Park Equipment')"
      ]
     },
     "execution_count": 38,
     "metadata": {},
     "output_type": "execute_result"
    },
    {
     "data": {
      "image/png": "[encoded data removed]",
      "text/plain": [
       "<Figure size 720x360 with 1 Axes>"
      ]
     },
     "metadata": {},
     "output_type": "display_data"
    }
   ],
   "source": [
    "sns.set()\n",
    "plt.figure(figsize=(10,5))\n",
    "\n",
    "park_series.sort_values(ascending = False)[:10].plot.barh()\n",
    "\n",
    "plt.title(\"Count of Neighborhood Park Equipment\",size=1)\n",
    "plt.xlabel(\"Park Name\", size=10)\n",
    "plt.ylabel(\"Number of Park Equipment\", size=10)\n"
   ]
  },
  {
   "cell_type": "markdown",
   "metadata": {},
   "source": [
    "The neighborhood with the largest park based off its equipment is **Spring Garden**"
   ]
  },
  {
   "cell_type": "markdown",
   "metadata": {},
   "source": []
  },
  {
   "cell_type": "code",
   "execution_count": null,
   "metadata": {},
   "outputs": [],
   "source": []
  }
 ],
 "metadata": {
  "kernelspec": {
   "display_name": "Python 3",
   "language": "python",
   "name": "python3"
  },
  "language_info": {
   "codemirror_mode": {
    "name": "ipython",
    "version": 3
   },
   "file_extension": ".py",
   "mimetype": "text/x-python",
   "name": "python",
   "nbconvert_exporter": "python",
   "pygments_lexer": "ipython3",
   "version": "3.8.3"
  }
 },
 "nbformat": 4,
 "nbformat_minor": 4
}
